{
 "cells": [
  {
   "cell_type": "code",
   "execution_count": 1,
   "metadata": {},
   "outputs": [],
   "source": [
    "#importing operating system and shutile \n",
    "import os, shutil"
   ]
  },
  {
   "cell_type": "code",
   "execution_count": 3,
   "metadata": {},
   "outputs": [],
   "source": [
    "#working directory of file path \n",
    "path='/home/rana/Desktop/datascience/php_vulnerability/paper_with_code1/TAP-master'"
   ]
  },
  {
   "cell_type": "code",
   "execution_count": 4,
   "metadata": {},
   "outputs": [
    {
     "name": "stdout",
     "output_type": "stream",
     "text": [
      "['predict_result.txt', 'classify.py', 'safe_samples', 'confusion_matrix.py', 'tapcmNor.png', 'classify_new.ipynb', 'tap.py', 'SARD-testsuite-103', 'testdata_y.txt', 'predict_value.txt', 'unsafe_samples', 'sarderrors.png', 'README.md', '.ipynb_checkpoints', 'result']\n"
     ]
    }
   ],
   "source": [
    "#print_befor coping\n",
    "print(os.listdir(path))"
   ]
  },
  {
   "cell_type": "code",
   "execution_count": 9,
   "metadata": {},
   "outputs": [],
   "source": [
    "#creating one txt file\n",
    "r=open('new_text_data.txt','w')"
   ]
  },
  {
   "cell_type": "code",
   "execution_count": 17,
   "metadata": {},
   "outputs": [],
   "source": [
    "#source data from where data will be copying \n",
    "sr='testdata_y.txt'"
   ]
  },
  {
   "cell_type": "code",
   "execution_count": 18,
   "metadata": {},
   "outputs": [],
   "source": [
    "#destination _data_ from where copied the data\n",
    "destination='./new_text_data.txt'"
   ]
  },
  {
   "cell_type": "code",
   "execution_count": 20,
   "metadata": {},
   "outputs": [
    {
     "data": {
      "text/plain": [
       "'./new_text_data.txt'"
      ]
     },
     "execution_count": 20,
     "metadata": {},
     "output_type": "execute_result"
    }
   ],
   "source": [
    "#shutile function works as copying data from one file to another file \n",
    "shutil.copy(sr,destination)"
   ]
  },
  {
   "cell_type": "code",
   "execution_count": 21,
   "metadata": {},
   "outputs": [
    {
     "name": "stdout",
     "output_type": "stream",
     "text": [
      "['predict_result.txt', 'classify.py', 'safe_samples', 'confusion_matrix.py', 'tapcmNor.png', 'tap.py', 'SARD-testsuite-103', 'testdata_y.txt', 'predict_value.txt', 'unsafe_samples', 'sarderrors.png', 'basic_shutile_function.ipynb', 'README.md', '.ipynb_checkpoints', 'result', 'new_text_data.txt']\n"
     ]
    }
   ],
   "source": [
    "#after copying the file path including\n",
    "print(os.listdir(path))"
   ]
  },
  {
   "cell_type": "code",
   "execution_count": null,
   "metadata": {},
   "outputs": [],
   "source": []
  }
 ],
 "metadata": {
  "kernelspec": {
   "display_name": "'Python Interactive'",
   "language": "python",
   "name": "4ac6b79a-8d30-4422-a0e6-d6cf85e1e0eb"
  },
  "language_info": {
   "codemirror_mode": {
    "name": "ipython",
    "version": 3
   },
   "file_extension": ".py",
   "mimetype": "text/x-python",
   "name": "python",
   "nbconvert_exporter": "python",
   "pygments_lexer": "ipython3",
   "version": "3.7.5"
  }
 },
 "nbformat": 4,
 "nbformat_minor": 2
}
